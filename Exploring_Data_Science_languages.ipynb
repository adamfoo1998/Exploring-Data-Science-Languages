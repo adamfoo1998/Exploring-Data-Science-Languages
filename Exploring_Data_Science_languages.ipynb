{
  "cells": [
    {
      "cell_type": "markdown",
      "metadata": {
        "id": "view-in-github",
        "colab_type": "text"
      },
      "source": [
        "<a href=\"https://colab.research.google.com/github/adamfoo1998/adamfoo1998/blob/main/Exploring_Data_Science_languages.ipynb\" target=\"_parent\"><img src=\"https://colab.research.google.com/assets/colab-badge.svg\" alt=\"Open In Colab\"/></a>"
      ]
    },
    {
      "metadata": {
        "dc": {
          "key": "4"
        },
        "deletable": false,
        "editable": false,
        "run_control": {
          "frozen": true
        },
        "tags": [
          "context"
        ],
        "id": "OUsuZd3jZ3Tj"
      },
      "cell_type": "markdown",
      "source": [
        "## 1. Welcome to the world of data science\n",
        "<p>Throughout the world of data science, there are many languages and tools that can be used to complete a given task. While we are often able to use whichever tool you prefer, it is often important for analysts to work with similar platforms so that they can share their code with one another. Learning what professionals in the data science industry use while at work can help us gain a better understanding of things that we may be asked to do in the future. </p>\n",
        "<p>In this project, we are going to find out what tools and languages professionals use in their day-to-day work. Our data comes from the <a href=\"https://www.kaggle.com/kaggle/kaggle-survey-2017?utm_medium=partner&utm_source=datacamp.com&utm_campaign=ml+survey+case+study\">Kaggle Data Science Survey</a> which includes responses from over 10,000 people that write code to analyze data in their daily work. </p>"
      ]
    },
    {
      "metadata": {
        "dc": {
          "key": "4"
        },
        "tags": [
          "sample_code"
        ],
        "trusted": true,
        "colab": {
          "base_uri": "https://localhost:8080/",
          "height": 655
        },
        "id": "5Y_6Yky7Z3Tp",
        "outputId": "9004fd38-8d38-48e1-cae6-3659e0872b2a"
      },
      "cell_type": "code",
      "source": [
        "# Load necessary packages\n",
        "library(tidyverse)\n",
        "\n",
        "# Load the data\n",
        "responses <- read_csv('/content/kagglesurvey.csv')\n",
        "\n",
        "# Print the first 10 rows\n",
        "head(responses, n = 10)"
      ],
      "execution_count": 9,
      "outputs": [
        {
          "output_type": "stream",
          "name": "stderr",
          "text": [
            "\u001b[1mRows: \u001b[22m\u001b[34m10153\u001b[39m \u001b[1mColumns: \u001b[22m\u001b[34m5\u001b[39m\n",
            "\u001b[36m──\u001b[39m \u001b[1mColumn specification\u001b[22m \u001b[36m────────────────────────────────────────────────────────\u001b[39m\n",
            "\u001b[1mDelimiter:\u001b[22m \",\"\n",
            "\u001b[31mchr\u001b[39m (4): WorkToolsSelect, LanguageRecommendationSelect, EmployerIndustry, Wo...\n",
            "\u001b[32mdbl\u001b[39m (1): Respondent\n",
            "\n",
            "\u001b[36mℹ\u001b[39m Use \u001b[30m\u001b[47m\u001b[30m\u001b[47m`spec()`\u001b[47m\u001b[30m\u001b[49m\u001b[39m to retrieve the full column specification for this data.\n",
            "\u001b[36mℹ\u001b[39m Specify the column types or set \u001b[30m\u001b[47m\u001b[30m\u001b[47m`show_col_types = FALSE`\u001b[47m\u001b[30m\u001b[49m\u001b[39m to quiet this message.\n"
          ]
        },
        {
          "output_type": "display_data",
          "data": {
            "text/plain": [
              "   Respondent\n",
              "1   1        \n",
              "2   2        \n",
              "3   3        \n",
              "4   4        \n",
              "5   5        \n",
              "6   6        \n",
              "7   7        \n",
              "8   8        \n",
              "9   9        \n",
              "10 10        \n",
              "   WorkToolsSelect                                                                                                                                                                                                    \n",
              "1  Amazon Web services,Oracle Data Mining/ Oracle R Enterprise,Perl                                                                                                                                                   \n",
              "2  Amazon Machine Learning,Amazon Web services,Cloudera,Hadoop/Hive/Pig,Impala,Java,Mathematica,MATLAB/Octave,Microsoft Excel Data Mining,Microsoft SQL Server Data Mining,NoSQL,Python,R,SAS Base,SAS JMP,SQL,Tableau\n",
              "3  C/C++,Jupyter notebooks,MATLAB/Octave,Python,R,TensorFlow                                                                                                                                                          \n",
              "4  Jupyter notebooks,Python,SQL,TensorFlow                                                                                                                                                                            \n",
              "5  C/C++,Cloudera,Hadoop/Hive/Pig,Java,NoSQL,R,Unix shell / awk                                                                                                                                                       \n",
              "6  SQL                                                                                                                                                                                                                \n",
              "7  Jupyter notebooks,NoSQL,Python,R,SQL,Unix shell / awk                                                                                                                                                              \n",
              "8  Python,Spark / MLlib,Tableau,TensorFlow,Other                                                                                                                                                                      \n",
              "9  Jupyter notebooks,MATLAB/Octave,Python,SAS Base,SQL                                                                                                                                                                \n",
              "10 C/C++,IBM Cognos,MATLAB/Octave,Microsoft Excel Data Mining,Microsoft R Server (Formerly Revolution Analytics),Microsoft SQL Server Data Mining,Perl,Python,R,SQL,Unix shell / awk                                  \n",
              "   LanguageRecommendationSelect EmployerIndustry\n",
              "1  F#                           Internet-based  \n",
              "2  Python                       Mix of fields   \n",
              "3  Python                       Technology      \n",
              "4  Python                       Academic        \n",
              "5  R                            Government      \n",
              "6  Python                       Non-profit      \n",
              "7  Python                       Internet-based  \n",
              "8  Python                       Mix of fields   \n",
              "9  Python                       Financial       \n",
              "10 R                            Technology      \n",
              "   WorkAlgorithmsSelect                                                                                                           \n",
              "1  Neural Networks,Random Forests,RNNs                                                                                            \n",
              "2  Bayesian Techniques,Decision Trees,Random Forests,Regression/Logistic Regression                                               \n",
              "3  Bayesian Techniques,CNNs,Ensemble Methods,Neural Networks,Regression/Logistic Regression,SVMs                                  \n",
              "4  Bayesian Techniques,CNNs,Decision Trees,Gradient Boosted Machines,Neural Networks,Random Forests,Regression/Logistic Regression\n",
              "5  NA                                                                                                                             \n",
              "6  NA                                                                                                                             \n",
              "7  CNNs,Decision Trees,Gradient Boosted Machines,Random Forests,Regression/Logistic Regression,SVMs                               \n",
              "8  Bayesian Techniques,CNNs,HMMs,Neural Networks,Random Forests,Regression/Logistic Regression,SVMs                               \n",
              "9  Ensemble Methods,Gradient Boosted Machines                                                                                     \n",
              "10 Bayesian Techniques,Regression/Logistic Regression                                                                             "
            ],
            "text/latex": "A tibble: 10 × 5\n\\begin{tabular}{lllll}\n Respondent & WorkToolsSelect & LanguageRecommendationSelect & EmployerIndustry & WorkAlgorithmsSelect\\\\\n <dbl> & <chr> & <chr> & <chr> & <chr>\\\\\n\\hline\n\t  1 & Amazon Web services,Oracle Data Mining/ Oracle R Enterprise,Perl                                                                                                                                                    & F\\#     & Internet-based & Neural Networks,Random Forests,RNNs                                                                                            \\\\\n\t  2 & Amazon Machine Learning,Amazon Web services,Cloudera,Hadoop/Hive/Pig,Impala,Java,Mathematica,MATLAB/Octave,Microsoft Excel Data Mining,Microsoft SQL Server Data Mining,NoSQL,Python,R,SAS Base,SAS JMP,SQL,Tableau & Python & Mix of fields  & Bayesian Techniques,Decision Trees,Random Forests,Regression/Logistic Regression                                               \\\\\n\t  3 & C/C++,Jupyter notebooks,MATLAB/Octave,Python,R,TensorFlow                                                                                                                                                           & Python & Technology     & Bayesian Techniques,CNNs,Ensemble Methods,Neural Networks,Regression/Logistic Regression,SVMs                                  \\\\\n\t  4 & Jupyter notebooks,Python,SQL,TensorFlow                                                                                                                                                                             & Python & Academic       & Bayesian Techniques,CNNs,Decision Trees,Gradient Boosted Machines,Neural Networks,Random Forests,Regression/Logistic Regression\\\\\n\t  5 & C/C++,Cloudera,Hadoop/Hive/Pig,Java,NoSQL,R,Unix shell / awk                                                                                                                                                        & R      & Government     & NA                                                                                                                             \\\\\n\t  6 & SQL                                                                                                                                                                                                                 & Python & Non-profit     & NA                                                                                                                             \\\\\n\t  7 & Jupyter notebooks,NoSQL,Python,R,SQL,Unix shell / awk                                                                                                                                                               & Python & Internet-based & CNNs,Decision Trees,Gradient Boosted Machines,Random Forests,Regression/Logistic Regression,SVMs                               \\\\\n\t  8 & Python,Spark / MLlib,Tableau,TensorFlow,Other                                                                                                                                                                       & Python & Mix of fields  & Bayesian Techniques,CNNs,HMMs,Neural Networks,Random Forests,Regression/Logistic Regression,SVMs                               \\\\\n\t  9 & Jupyter notebooks,MATLAB/Octave,Python,SAS Base,SQL                                                                                                                                                                 & Python & Financial      & Ensemble Methods,Gradient Boosted Machines                                                                                     \\\\\n\t 10 & C/C++,IBM Cognos,MATLAB/Octave,Microsoft Excel Data Mining,Microsoft R Server (Formerly Revolution Analytics),Microsoft SQL Server Data Mining,Perl,Python,R,SQL,Unix shell / awk                                   & R      & Technology     & Bayesian Techniques,Regression/Logistic Regression                                                                             \\\\\n\\end{tabular}\n",
            "text/markdown": "\nA tibble: 10 × 5\n\n| Respondent &lt;dbl&gt; | WorkToolsSelect &lt;chr&gt; | LanguageRecommendationSelect &lt;chr&gt; | EmployerIndustry &lt;chr&gt; | WorkAlgorithmsSelect &lt;chr&gt; |\n|---|---|---|---|---|\n|  1 | Amazon Web services,Oracle Data Mining/ Oracle R Enterprise,Perl                                                                                                                                                    | F#     | Internet-based | Neural Networks,Random Forests,RNNs                                                                                             |\n|  2 | Amazon Machine Learning,Amazon Web services,Cloudera,Hadoop/Hive/Pig,Impala,Java,Mathematica,MATLAB/Octave,Microsoft Excel Data Mining,Microsoft SQL Server Data Mining,NoSQL,Python,R,SAS Base,SAS JMP,SQL,Tableau | Python | Mix of fields  | Bayesian Techniques,Decision Trees,Random Forests,Regression/Logistic Regression                                                |\n|  3 | C/C++,Jupyter notebooks,MATLAB/Octave,Python,R,TensorFlow                                                                                                                                                           | Python | Technology     | Bayesian Techniques,CNNs,Ensemble Methods,Neural Networks,Regression/Logistic Regression,SVMs                                   |\n|  4 | Jupyter notebooks,Python,SQL,TensorFlow                                                                                                                                                                             | Python | Academic       | Bayesian Techniques,CNNs,Decision Trees,Gradient Boosted Machines,Neural Networks,Random Forests,Regression/Logistic Regression |\n|  5 | C/C++,Cloudera,Hadoop/Hive/Pig,Java,NoSQL,R,Unix shell / awk                                                                                                                                                        | R      | Government     | NA                                                                                                                              |\n|  6 | SQL                                                                                                                                                                                                                 | Python | Non-profit     | NA                                                                                                                              |\n|  7 | Jupyter notebooks,NoSQL,Python,R,SQL,Unix shell / awk                                                                                                                                                               | Python | Internet-based | CNNs,Decision Trees,Gradient Boosted Machines,Random Forests,Regression/Logistic Regression,SVMs                                |\n|  8 | Python,Spark / MLlib,Tableau,TensorFlow,Other                                                                                                                                                                       | Python | Mix of fields  | Bayesian Techniques,CNNs,HMMs,Neural Networks,Random Forests,Regression/Logistic Regression,SVMs                                |\n|  9 | Jupyter notebooks,MATLAB/Octave,Python,SAS Base,SQL                                                                                                                                                                 | Python | Financial      | Ensemble Methods,Gradient Boosted Machines                                                                                      |\n| 10 | C/C++,IBM Cognos,MATLAB/Octave,Microsoft Excel Data Mining,Microsoft R Server (Formerly Revolution Analytics),Microsoft SQL Server Data Mining,Perl,Python,R,SQL,Unix shell / awk                                   | R      | Technology     | Bayesian Techniques,Regression/Logistic Regression                                                                              |\n\n",
            "text/html": [
              "<table class=\"dataframe\">\n",
              "<caption>A tibble: 10 × 5</caption>\n",
              "<thead>\n",
              "\t<tr><th scope=col>Respondent</th><th scope=col>WorkToolsSelect</th><th scope=col>LanguageRecommendationSelect</th><th scope=col>EmployerIndustry</th><th scope=col>WorkAlgorithmsSelect</th></tr>\n",
              "\t<tr><th scope=col>&lt;dbl&gt;</th><th scope=col>&lt;chr&gt;</th><th scope=col>&lt;chr&gt;</th><th scope=col>&lt;chr&gt;</th><th scope=col>&lt;chr&gt;</th></tr>\n",
              "</thead>\n",
              "<tbody>\n",
              "\t<tr><td> 1</td><td>Amazon Web services,Oracle Data Mining/ Oracle R Enterprise,Perl                                                                                                                                                   </td><td>F#    </td><td>Internet-based</td><td>Neural Networks,Random Forests,RNNs                                                                                            </td></tr>\n",
              "\t<tr><td> 2</td><td>Amazon Machine Learning,Amazon Web services,Cloudera,Hadoop/Hive/Pig,Impala,Java,Mathematica,MATLAB/Octave,Microsoft Excel Data Mining,Microsoft SQL Server Data Mining,NoSQL,Python,R,SAS Base,SAS JMP,SQL,Tableau</td><td>Python</td><td>Mix of fields </td><td>Bayesian Techniques,Decision Trees,Random Forests,Regression/Logistic Regression                                               </td></tr>\n",
              "\t<tr><td> 3</td><td>C/C++,Jupyter notebooks,MATLAB/Octave,Python,R,TensorFlow                                                                                                                                                          </td><td>Python</td><td>Technology    </td><td>Bayesian Techniques,CNNs,Ensemble Methods,Neural Networks,Regression/Logistic Regression,SVMs                                  </td></tr>\n",
              "\t<tr><td> 4</td><td>Jupyter notebooks,Python,SQL,TensorFlow                                                                                                                                                                            </td><td>Python</td><td>Academic      </td><td>Bayesian Techniques,CNNs,Decision Trees,Gradient Boosted Machines,Neural Networks,Random Forests,Regression/Logistic Regression</td></tr>\n",
              "\t<tr><td> 5</td><td>C/C++,Cloudera,Hadoop/Hive/Pig,Java,NoSQL,R,Unix shell / awk                                                                                                                                                       </td><td>R     </td><td>Government    </td><td>NA                                                                                                                             </td></tr>\n",
              "\t<tr><td> 6</td><td>SQL                                                                                                                                                                                                                </td><td>Python</td><td>Non-profit    </td><td>NA                                                                                                                             </td></tr>\n",
              "\t<tr><td> 7</td><td>Jupyter notebooks,NoSQL,Python,R,SQL,Unix shell / awk                                                                                                                                                              </td><td>Python</td><td>Internet-based</td><td>CNNs,Decision Trees,Gradient Boosted Machines,Random Forests,Regression/Logistic Regression,SVMs                               </td></tr>\n",
              "\t<tr><td> 8</td><td>Python,Spark / MLlib,Tableau,TensorFlow,Other                                                                                                                                                                      </td><td>Python</td><td>Mix of fields </td><td>Bayesian Techniques,CNNs,HMMs,Neural Networks,Random Forests,Regression/Logistic Regression,SVMs                               </td></tr>\n",
              "\t<tr><td> 9</td><td>Jupyter notebooks,MATLAB/Octave,Python,SAS Base,SQL                                                                                                                                                                </td><td>Python</td><td>Financial     </td><td>Ensemble Methods,Gradient Boosted Machines                                                                                     </td></tr>\n",
              "\t<tr><td>10</td><td>C/C++,IBM Cognos,MATLAB/Octave,Microsoft Excel Data Mining,Microsoft R Server (Formerly Revolution Analytics),Microsoft SQL Server Data Mining,Perl,Python,R,SQL,Unix shell / awk                                  </td><td>R     </td><td>Technology    </td><td>Bayesian Techniques,Regression/Logistic Regression                                                                             </td></tr>\n",
              "</tbody>\n",
              "</table>\n"
            ]
          },
          "metadata": {}
        }
      ]
    },
    {
      "metadata": {
        "dc": {
          "key": "12"
        },
        "deletable": false,
        "editable": false,
        "run_control": {
          "frozen": true
        },
        "tags": [
          "context"
        ],
        "id": "kcwrw6T0Z3Tt"
      },
      "cell_type": "markdown",
      "source": [
        "## 2. Using multiple tools\n",
        "<p>Now that we have loaded in the survey results, we want to focus on the tools and languages that the survey respondents use at work.</p>\n",
        "<p>To get a better idea of how the data are formatted, we will look at the first respondent's tool-use and see that this survey-taker listed multiple tools that are each separated by a comma. To learn how many people use each tool, we need to separate out all of the tools used by each individual. There are several ways to complete this task, but we will use <code>str_split()</code> from <code>stringr</code> to separate the tools at each comma. Since that will create a list inside of the data frame, we can use the <code>tidyr</code> function <code>unnest()</code> to separate each list item into a new row.</p>"
      ]
    },
    {
      "metadata": {
        "dc": {
          "key": "12"
        },
        "tags": [
          "sample_code"
        ],
        "trusted": true,
        "colab": {
          "base_uri": "https://localhost:8080/",
          "height": 468
        },
        "id": "ZOM68Sz4Z3Tu",
        "outputId": "a6ba3618-f978-4a17-baf3-55e2994b1fe8"
      },
      "cell_type": "code",
      "source": [
        "# Print the first respondent's tools and languages\n",
        "responses[1,2]\n",
        "\n",
        "# Add a new column, and unnest the new column\n",
        "tools <- responses  %>% \n",
        "    mutate(work_tools = str_split(WorkToolsSelect, \",\"))  %>% \n",
        "    unnest(work_tools)\n",
        "\n",
        "\n",
        "# View the first 6 rows of tools\n",
        "head(tools)"
      ],
      "execution_count": 10,
      "outputs": [
        {
          "output_type": "display_data",
          "data": {
            "text/plain": [
              "  WorkToolsSelect                                                 \n",
              "1 Amazon Web services,Oracle Data Mining/ Oracle R Enterprise,Perl"
            ],
            "text/latex": "A tibble: 1 × 1\n\\begin{tabular}{l}\n WorkToolsSelect\\\\\n <chr>\\\\\n\\hline\n\t Amazon Web services,Oracle Data Mining/ Oracle R Enterprise,Perl\\\\\n\\end{tabular}\n",
            "text/markdown": "\nA tibble: 1 × 1\n\n| WorkToolsSelect &lt;chr&gt; |\n|---|\n| Amazon Web services,Oracle Data Mining/ Oracle R Enterprise,Perl |\n\n",
            "text/html": [
              "<table class=\"dataframe\">\n",
              "<caption>A tibble: 1 × 1</caption>\n",
              "<thead>\n",
              "\t<tr><th scope=col>WorkToolsSelect</th></tr>\n",
              "\t<tr><th scope=col>&lt;chr&gt;</th></tr>\n",
              "</thead>\n",
              "<tbody>\n",
              "\t<tr><td>Amazon Web services,Oracle Data Mining/ Oracle R Enterprise,Perl</td></tr>\n",
              "</tbody>\n",
              "</table>\n"
            ]
          },
          "metadata": {}
        },
        {
          "output_type": "display_data",
          "data": {
            "text/plain": [
              "  Respondent\n",
              "1 1         \n",
              "2 1         \n",
              "3 1         \n",
              "4 2         \n",
              "5 2         \n",
              "6 2         \n",
              "  WorkToolsSelect                                                                                                                                                                                                    \n",
              "1 Amazon Web services,Oracle Data Mining/ Oracle R Enterprise,Perl                                                                                                                                                   \n",
              "2 Amazon Web services,Oracle Data Mining/ Oracle R Enterprise,Perl                                                                                                                                                   \n",
              "3 Amazon Web services,Oracle Data Mining/ Oracle R Enterprise,Perl                                                                                                                                                   \n",
              "4 Amazon Machine Learning,Amazon Web services,Cloudera,Hadoop/Hive/Pig,Impala,Java,Mathematica,MATLAB/Octave,Microsoft Excel Data Mining,Microsoft SQL Server Data Mining,NoSQL,Python,R,SAS Base,SAS JMP,SQL,Tableau\n",
              "5 Amazon Machine Learning,Amazon Web services,Cloudera,Hadoop/Hive/Pig,Impala,Java,Mathematica,MATLAB/Octave,Microsoft Excel Data Mining,Microsoft SQL Server Data Mining,NoSQL,Python,R,SAS Base,SAS JMP,SQL,Tableau\n",
              "6 Amazon Machine Learning,Amazon Web services,Cloudera,Hadoop/Hive/Pig,Impala,Java,Mathematica,MATLAB/Octave,Microsoft Excel Data Mining,Microsoft SQL Server Data Mining,NoSQL,Python,R,SAS Base,SAS JMP,SQL,Tableau\n",
              "  LanguageRecommendationSelect EmployerIndustry\n",
              "1 F#                           Internet-based  \n",
              "2 F#                           Internet-based  \n",
              "3 F#                           Internet-based  \n",
              "4 Python                       Mix of fields   \n",
              "5 Python                       Mix of fields   \n",
              "6 Python                       Mix of fields   \n",
              "  WorkAlgorithmsSelect                                                            \n",
              "1 Neural Networks,Random Forests,RNNs                                             \n",
              "2 Neural Networks,Random Forests,RNNs                                             \n",
              "3 Neural Networks,Random Forests,RNNs                                             \n",
              "4 Bayesian Techniques,Decision Trees,Random Forests,Regression/Logistic Regression\n",
              "5 Bayesian Techniques,Decision Trees,Random Forests,Regression/Logistic Regression\n",
              "6 Bayesian Techniques,Decision Trees,Random Forests,Regression/Logistic Regression\n",
              "  work_tools                             \n",
              "1 Amazon Web services                    \n",
              "2 Oracle Data Mining/ Oracle R Enterprise\n",
              "3 Perl                                   \n",
              "4 Amazon Machine Learning                \n",
              "5 Amazon Web services                    \n",
              "6 Cloudera                               "
            ],
            "text/latex": "A tibble: 6 × 6\n\\begin{tabular}{llllll}\n Respondent & WorkToolsSelect & LanguageRecommendationSelect & EmployerIndustry & WorkAlgorithmsSelect & work\\_tools\\\\\n <dbl> & <chr> & <chr> & <chr> & <chr> & <chr>\\\\\n\\hline\n\t 1 & Amazon Web services,Oracle Data Mining/ Oracle R Enterprise,Perl                                                                                                                                                    & F\\#     & Internet-based & Neural Networks,Random Forests,RNNs                                              & Amazon Web services                    \\\\\n\t 1 & Amazon Web services,Oracle Data Mining/ Oracle R Enterprise,Perl                                                                                                                                                    & F\\#     & Internet-based & Neural Networks,Random Forests,RNNs                                              & Oracle Data Mining/ Oracle R Enterprise\\\\\n\t 1 & Amazon Web services,Oracle Data Mining/ Oracle R Enterprise,Perl                                                                                                                                                    & F\\#     & Internet-based & Neural Networks,Random Forests,RNNs                                              & Perl                                   \\\\\n\t 2 & Amazon Machine Learning,Amazon Web services,Cloudera,Hadoop/Hive/Pig,Impala,Java,Mathematica,MATLAB/Octave,Microsoft Excel Data Mining,Microsoft SQL Server Data Mining,NoSQL,Python,R,SAS Base,SAS JMP,SQL,Tableau & Python & Mix of fields  & Bayesian Techniques,Decision Trees,Random Forests,Regression/Logistic Regression & Amazon Machine Learning                \\\\\n\t 2 & Amazon Machine Learning,Amazon Web services,Cloudera,Hadoop/Hive/Pig,Impala,Java,Mathematica,MATLAB/Octave,Microsoft Excel Data Mining,Microsoft SQL Server Data Mining,NoSQL,Python,R,SAS Base,SAS JMP,SQL,Tableau & Python & Mix of fields  & Bayesian Techniques,Decision Trees,Random Forests,Regression/Logistic Regression & Amazon Web services                    \\\\\n\t 2 & Amazon Machine Learning,Amazon Web services,Cloudera,Hadoop/Hive/Pig,Impala,Java,Mathematica,MATLAB/Octave,Microsoft Excel Data Mining,Microsoft SQL Server Data Mining,NoSQL,Python,R,SAS Base,SAS JMP,SQL,Tableau & Python & Mix of fields  & Bayesian Techniques,Decision Trees,Random Forests,Regression/Logistic Regression & Cloudera                               \\\\\n\\end{tabular}\n",
            "text/markdown": "\nA tibble: 6 × 6\n\n| Respondent &lt;dbl&gt; | WorkToolsSelect &lt;chr&gt; | LanguageRecommendationSelect &lt;chr&gt; | EmployerIndustry &lt;chr&gt; | WorkAlgorithmsSelect &lt;chr&gt; | work_tools &lt;chr&gt; |\n|---|---|---|---|---|---|\n| 1 | Amazon Web services,Oracle Data Mining/ Oracle R Enterprise,Perl                                                                                                                                                    | F#     | Internet-based | Neural Networks,Random Forests,RNNs                                              | Amazon Web services                     |\n| 1 | Amazon Web services,Oracle Data Mining/ Oracle R Enterprise,Perl                                                                                                                                                    | F#     | Internet-based | Neural Networks,Random Forests,RNNs                                              | Oracle Data Mining/ Oracle R Enterprise |\n| 1 | Amazon Web services,Oracle Data Mining/ Oracle R Enterprise,Perl                                                                                                                                                    | F#     | Internet-based | Neural Networks,Random Forests,RNNs                                              | Perl                                    |\n| 2 | Amazon Machine Learning,Amazon Web services,Cloudera,Hadoop/Hive/Pig,Impala,Java,Mathematica,MATLAB/Octave,Microsoft Excel Data Mining,Microsoft SQL Server Data Mining,NoSQL,Python,R,SAS Base,SAS JMP,SQL,Tableau | Python | Mix of fields  | Bayesian Techniques,Decision Trees,Random Forests,Regression/Logistic Regression | Amazon Machine Learning                 |\n| 2 | Amazon Machine Learning,Amazon Web services,Cloudera,Hadoop/Hive/Pig,Impala,Java,Mathematica,MATLAB/Octave,Microsoft Excel Data Mining,Microsoft SQL Server Data Mining,NoSQL,Python,R,SAS Base,SAS JMP,SQL,Tableau | Python | Mix of fields  | Bayesian Techniques,Decision Trees,Random Forests,Regression/Logistic Regression | Amazon Web services                     |\n| 2 | Amazon Machine Learning,Amazon Web services,Cloudera,Hadoop/Hive/Pig,Impala,Java,Mathematica,MATLAB/Octave,Microsoft Excel Data Mining,Microsoft SQL Server Data Mining,NoSQL,Python,R,SAS Base,SAS JMP,SQL,Tableau | Python | Mix of fields  | Bayesian Techniques,Decision Trees,Random Forests,Regression/Logistic Regression | Cloudera                                |\n\n",
            "text/html": [
              "<table class=\"dataframe\">\n",
              "<caption>A tibble: 6 × 6</caption>\n",
              "<thead>\n",
              "\t<tr><th scope=col>Respondent</th><th scope=col>WorkToolsSelect</th><th scope=col>LanguageRecommendationSelect</th><th scope=col>EmployerIndustry</th><th scope=col>WorkAlgorithmsSelect</th><th scope=col>work_tools</th></tr>\n",
              "\t<tr><th scope=col>&lt;dbl&gt;</th><th scope=col>&lt;chr&gt;</th><th scope=col>&lt;chr&gt;</th><th scope=col>&lt;chr&gt;</th><th scope=col>&lt;chr&gt;</th><th scope=col>&lt;chr&gt;</th></tr>\n",
              "</thead>\n",
              "<tbody>\n",
              "\t<tr><td>1</td><td>Amazon Web services,Oracle Data Mining/ Oracle R Enterprise,Perl                                                                                                                                                   </td><td>F#    </td><td>Internet-based</td><td>Neural Networks,Random Forests,RNNs                                             </td><td>Amazon Web services                    </td></tr>\n",
              "\t<tr><td>1</td><td>Amazon Web services,Oracle Data Mining/ Oracle R Enterprise,Perl                                                                                                                                                   </td><td>F#    </td><td>Internet-based</td><td>Neural Networks,Random Forests,RNNs                                             </td><td>Oracle Data Mining/ Oracle R Enterprise</td></tr>\n",
              "\t<tr><td>1</td><td>Amazon Web services,Oracle Data Mining/ Oracle R Enterprise,Perl                                                                                                                                                   </td><td>F#    </td><td>Internet-based</td><td>Neural Networks,Random Forests,RNNs                                             </td><td>Perl                                   </td></tr>\n",
              "\t<tr><td>2</td><td>Amazon Machine Learning,Amazon Web services,Cloudera,Hadoop/Hive/Pig,Impala,Java,Mathematica,MATLAB/Octave,Microsoft Excel Data Mining,Microsoft SQL Server Data Mining,NoSQL,Python,R,SAS Base,SAS JMP,SQL,Tableau</td><td>Python</td><td>Mix of fields </td><td>Bayesian Techniques,Decision Trees,Random Forests,Regression/Logistic Regression</td><td>Amazon Machine Learning                </td></tr>\n",
              "\t<tr><td>2</td><td>Amazon Machine Learning,Amazon Web services,Cloudera,Hadoop/Hive/Pig,Impala,Java,Mathematica,MATLAB/Octave,Microsoft Excel Data Mining,Microsoft SQL Server Data Mining,NoSQL,Python,R,SAS Base,SAS JMP,SQL,Tableau</td><td>Python</td><td>Mix of fields </td><td>Bayesian Techniques,Decision Trees,Random Forests,Regression/Logistic Regression</td><td>Amazon Web services                    </td></tr>\n",
              "\t<tr><td>2</td><td>Amazon Machine Learning,Amazon Web services,Cloudera,Hadoop/Hive/Pig,Impala,Java,Mathematica,MATLAB/Octave,Microsoft Excel Data Mining,Microsoft SQL Server Data Mining,NoSQL,Python,R,SAS Base,SAS JMP,SQL,Tableau</td><td>Python</td><td>Mix of fields </td><td>Bayesian Techniques,Decision Trees,Random Forests,Regression/Logistic Regression</td><td>Cloudera                               </td></tr>\n",
              "</tbody>\n",
              "</table>\n"
            ]
          },
          "metadata": {}
        }
      ]
    },
    {
      "metadata": {
        "dc": {
          "key": "19"
        },
        "deletable": false,
        "editable": false,
        "run_control": {
          "frozen": true
        },
        "tags": [
          "context"
        ],
        "id": "8eZ2inyMZ3Tw"
      },
      "cell_type": "markdown",
      "source": [
        "## 3. Counting users of each tool\n",
        "<p>Now that we've split apart all of the tools used by each respondent, we can figure out which tools are the most popular.</p>"
      ]
    },
    {
      "metadata": {
        "dc": {
          "key": "19"
        },
        "tags": [
          "sample_code"
        ],
        "trusted": true,
        "colab": {
          "base_uri": "https://localhost:8080/",
          "height": 286
        },
        "id": "Ub78MnzZZ3Tx",
        "outputId": "34e8bcca-2064-4a6d-b9aa-9548414a426d"
      },
      "cell_type": "code",
      "source": [
        "# Group the data by work_tools, summarise the counts, and arrange in descending order\n",
        "tool_count <- tools  %>% \n",
        "    group_by(work_tools)  %>% \n",
        "    summarise(count = n()) %>%\n",
        "    arrange(desc(count))\n",
        "    \n",
        "    \n",
        "# Print the first 6 results\n",
        "head(tool_count)"
      ],
      "execution_count": 11,
      "outputs": [
        {
          "output_type": "display_data",
          "data": {
            "text/plain": [
              "  work_tools        count\n",
              "1 Python            6073 \n",
              "2 R                 4708 \n",
              "3 SQL               4261 \n",
              "4 Jupyter notebooks 3206 \n",
              "5 TensorFlow        2256 \n",
              "6 NA                2198 "
            ],
            "text/latex": "A tibble: 6 × 2\n\\begin{tabular}{ll}\n work\\_tools & count\\\\\n <chr> & <int>\\\\\n\\hline\n\t Python            & 6073\\\\\n\t R                 & 4708\\\\\n\t SQL               & 4261\\\\\n\t Jupyter notebooks & 3206\\\\\n\t TensorFlow        & 2256\\\\\n\t NA                & 2198\\\\\n\\end{tabular}\n",
            "text/markdown": "\nA tibble: 6 × 2\n\n| work_tools &lt;chr&gt; | count &lt;int&gt; |\n|---|---|\n| Python            | 6073 |\n| R                 | 4708 |\n| SQL               | 4261 |\n| Jupyter notebooks | 3206 |\n| TensorFlow        | 2256 |\n| NA                | 2198 |\n\n",
            "text/html": [
              "<table class=\"dataframe\">\n",
              "<caption>A tibble: 6 × 2</caption>\n",
              "<thead>\n",
              "\t<tr><th scope=col>work_tools</th><th scope=col>count</th></tr>\n",
              "\t<tr><th scope=col>&lt;chr&gt;</th><th scope=col>&lt;int&gt;</th></tr>\n",
              "</thead>\n",
              "<tbody>\n",
              "\t<tr><td>Python           </td><td>6073</td></tr>\n",
              "\t<tr><td>R                </td><td>4708</td></tr>\n",
              "\t<tr><td>SQL              </td><td>4261</td></tr>\n",
              "\t<tr><td>Jupyter notebooks</td><td>3206</td></tr>\n",
              "\t<tr><td>TensorFlow       </td><td>2256</td></tr>\n",
              "\t<tr><td>NA               </td><td>2198</td></tr>\n",
              "</tbody>\n",
              "</table>\n"
            ]
          },
          "metadata": {}
        }
      ]
    },
    {
      "metadata": {
        "dc": {
          "key": "26"
        },
        "deletable": false,
        "editable": false,
        "run_control": {
          "frozen": true
        },
        "tags": [
          "context"
        ],
        "id": "CftfnoeAZ3Ty"
      },
      "cell_type": "markdown",
      "source": [
        "## 4. Plotting the most popular tools\n",
        "<p>Let's see how the most popular tools stack up against the rest.</p>"
      ]
    },
    {
      "metadata": {
        "dc": {
          "key": "26"
        },
        "tags": [
          "sample_code"
        ],
        "trusted": true,
        "colab": {
          "base_uri": "https://localhost:8080/",
          "height": 437
        },
        "id": "uc4-FEhqZ3Tz",
        "outputId": "48f0f6cf-f400-4937-a5ae-ba223e3a2cf0"
      },
      "cell_type": "code",
      "source": [
        "# Create a bar chart of the work_tools column, most counts on the far right\n",
        "ggplot(tool_count, aes(x = fct_reorder(work_tools, count), y = count)) + \n",
        "    geom_bar(stat = \"identity\") +\n",
        "    theme(axis.text.x = element_text(angle = 90, vjust=0.5, hjust = 1))"
      ],
      "execution_count": 12,
      "outputs": [
        {
          "output_type": "display_data",
          "data": {
            "image/png": "[encoded data removed]",
            "text/plain": [
              "plot without title"
            ]
          },
          "metadata": {
            "image/png": {
              "width": 420,
              "height": 420
            }
          }
        }
      ]
    },
    {
      "metadata": {
        "dc": {
          "key": "33"
        },
        "deletable": false,
        "editable": false,
        "run_control": {
          "frozen": true
        },
        "tags": [
          "context"
        ],
        "id": "eW-Bc2CIZ3T0"
      },
      "cell_type": "markdown",
      "source": [
        "## 5. The R vs Python debate\n",
        "<p>Within the field of data science, there is a lot of debate among professionals about whether R or Python should reign supreme. We can see from our last figure that R and Python are the two most commonly used languages, but it's possible that many respondents use both R and Python. Let's take a look at how many people use R, Python, and both tools.</p>"
      ]
    },
    {
      "metadata": {
        "dc": {
          "key": "33"
        },
        "tags": [
          "sample_code"
        ],
        "trusted": true,
        "colab": {
          "base_uri": "https://localhost:8080/",
          "height": 356
        },
        "id": "SZa90V8sZ3T1",
        "outputId": "11357eb4-6d5d-4642-d097-e7b013fb30f9"
      },
      "cell_type": "code",
      "source": [
        "# Create a new column called language preference\n",
        "debate_tools <- responses  %>% \n",
        "   mutate(language_preference = case_when(\n",
        "       str_detect(WorkToolsSelect, \"R\") & ! str_detect(WorkToolsSelect, \"Python\") ~ \"R\",\n",
        "       str_detect(WorkToolsSelect, \"Python\") & ! str_detect(WorkToolsSelect, \"R\") ~ \"Python\",\n",
        "       str_detect(WorkToolsSelect, \"R\") & str_detect(WorkToolsSelect, \"Python\") ~ \"both\",\n",
        "       TRUE ~ \"neither\"\n",
        "   ))\n",
        "\n",
        "# Print the first 6 rows\n",
        "head(debate_tools)"
      ],
      "execution_count": 13,
      "outputs": [
        {
          "output_type": "display_data",
          "data": {
            "text/plain": [
              "  Respondent\n",
              "1 1         \n",
              "2 2         \n",
              "3 3         \n",
              "4 4         \n",
              "5 5         \n",
              "6 6         \n",
              "  WorkToolsSelect                                                                                                                                                                                                    \n",
              "1 Amazon Web services,Oracle Data Mining/ Oracle R Enterprise,Perl                                                                                                                                                   \n",
              "2 Amazon Machine Learning,Amazon Web services,Cloudera,Hadoop/Hive/Pig,Impala,Java,Mathematica,MATLAB/Octave,Microsoft Excel Data Mining,Microsoft SQL Server Data Mining,NoSQL,Python,R,SAS Base,SAS JMP,SQL,Tableau\n",
              "3 C/C++,Jupyter notebooks,MATLAB/Octave,Python,R,TensorFlow                                                                                                                                                          \n",
              "4 Jupyter notebooks,Python,SQL,TensorFlow                                                                                                                                                                            \n",
              "5 C/C++,Cloudera,Hadoop/Hive/Pig,Java,NoSQL,R,Unix shell / awk                                                                                                                                                       \n",
              "6 SQL                                                                                                                                                                                                                \n",
              "  LanguageRecommendationSelect EmployerIndustry\n",
              "1 F#                           Internet-based  \n",
              "2 Python                       Mix of fields   \n",
              "3 Python                       Technology      \n",
              "4 Python                       Academic        \n",
              "5 R                            Government      \n",
              "6 Python                       Non-profit      \n",
              "  WorkAlgorithmsSelect                                                                                                           \n",
              "1 Neural Networks,Random Forests,RNNs                                                                                            \n",
              "2 Bayesian Techniques,Decision Trees,Random Forests,Regression/Logistic Regression                                               \n",
              "3 Bayesian Techniques,CNNs,Ensemble Methods,Neural Networks,Regression/Logistic Regression,SVMs                                  \n",
              "4 Bayesian Techniques,CNNs,Decision Trees,Gradient Boosted Machines,Neural Networks,Random Forests,Regression/Logistic Regression\n",
              "5 NA                                                                                                                             \n",
              "6 NA                                                                                                                             \n",
              "  language_preference\n",
              "1 R                  \n",
              "2 both               \n",
              "3 both               \n",
              "4 Python             \n",
              "5 R                  \n",
              "6 neither            "
            ],
            "text/latex": "A tibble: 6 × 6\n\\begin{tabular}{llllll}\n Respondent & WorkToolsSelect & LanguageRecommendationSelect & EmployerIndustry & WorkAlgorithmsSelect & language\\_preference\\\\\n <dbl> & <chr> & <chr> & <chr> & <chr> & <chr>\\\\\n\\hline\n\t 1 & Amazon Web services,Oracle Data Mining/ Oracle R Enterprise,Perl                                                                                                                                                    & F\\#     & Internet-based & Neural Networks,Random Forests,RNNs                                                                                             & R      \\\\\n\t 2 & Amazon Machine Learning,Amazon Web services,Cloudera,Hadoop/Hive/Pig,Impala,Java,Mathematica,MATLAB/Octave,Microsoft Excel Data Mining,Microsoft SQL Server Data Mining,NoSQL,Python,R,SAS Base,SAS JMP,SQL,Tableau & Python & Mix of fields  & Bayesian Techniques,Decision Trees,Random Forests,Regression/Logistic Regression                                                & both   \\\\\n\t 3 & C/C++,Jupyter notebooks,MATLAB/Octave,Python,R,TensorFlow                                                                                                                                                           & Python & Technology     & Bayesian Techniques,CNNs,Ensemble Methods,Neural Networks,Regression/Logistic Regression,SVMs                                   & both   \\\\\n\t 4 & Jupyter notebooks,Python,SQL,TensorFlow                                                                                                                                                                             & Python & Academic       & Bayesian Techniques,CNNs,Decision Trees,Gradient Boosted Machines,Neural Networks,Random Forests,Regression/Logistic Regression & Python \\\\\n\t 5 & C/C++,Cloudera,Hadoop/Hive/Pig,Java,NoSQL,R,Unix shell / awk                                                                                                                                                        & R      & Government     & NA                                                                                                                              & R      \\\\\n\t 6 & SQL                                                                                                                                                                                                                 & Python & Non-profit     & NA                                                                                                                              & neither\\\\\n\\end{tabular}\n",
            "text/markdown": "\nA tibble: 6 × 6\n\n| Respondent &lt;dbl&gt; | WorkToolsSelect &lt;chr&gt; | LanguageRecommendationSelect &lt;chr&gt; | EmployerIndustry &lt;chr&gt; | WorkAlgorithmsSelect &lt;chr&gt; | language_preference &lt;chr&gt; |\n|---|---|---|---|---|---|\n| 1 | Amazon Web services,Oracle Data Mining/ Oracle R Enterprise,Perl                                                                                                                                                    | F#     | Internet-based | Neural Networks,Random Forests,RNNs                                                                                             | R       |\n| 2 | Amazon Machine Learning,Amazon Web services,Cloudera,Hadoop/Hive/Pig,Impala,Java,Mathematica,MATLAB/Octave,Microsoft Excel Data Mining,Microsoft SQL Server Data Mining,NoSQL,Python,R,SAS Base,SAS JMP,SQL,Tableau | Python | Mix of fields  | Bayesian Techniques,Decision Trees,Random Forests,Regression/Logistic Regression                                                | both    |\n| 3 | C/C++,Jupyter notebooks,MATLAB/Octave,Python,R,TensorFlow                                                                                                                                                           | Python | Technology     | Bayesian Techniques,CNNs,Ensemble Methods,Neural Networks,Regression/Logistic Regression,SVMs                                   | both    |\n| 4 | Jupyter notebooks,Python,SQL,TensorFlow                                                                                                                                                                             | Python | Academic       | Bayesian Techniques,CNNs,Decision Trees,Gradient Boosted Machines,Neural Networks,Random Forests,Regression/Logistic Regression | Python  |\n| 5 | C/C++,Cloudera,Hadoop/Hive/Pig,Java,NoSQL,R,Unix shell / awk                                                                                                                                                        | R      | Government     | NA                                                                                                                              | R       |\n| 6 | SQL                                                                                                                                                                                                                 | Python | Non-profit     | NA                                                                                                                              | neither |\n\n",
            "text/html": [
              "<table class=\"dataframe\">\n",
              "<caption>A tibble: 6 × 6</caption>\n",
              "<thead>\n",
              "\t<tr><th scope=col>Respondent</th><th scope=col>WorkToolsSelect</th><th scope=col>LanguageRecommendationSelect</th><th scope=col>EmployerIndustry</th><th scope=col>WorkAlgorithmsSelect</th><th scope=col>language_preference</th></tr>\n",
              "\t<tr><th scope=col>&lt;dbl&gt;</th><th scope=col>&lt;chr&gt;</th><th scope=col>&lt;chr&gt;</th><th scope=col>&lt;chr&gt;</th><th scope=col>&lt;chr&gt;</th><th scope=col>&lt;chr&gt;</th></tr>\n",
              "</thead>\n",
              "<tbody>\n",
              "\t<tr><td>1</td><td>Amazon Web services,Oracle Data Mining/ Oracle R Enterprise,Perl                                                                                                                                                   </td><td>F#    </td><td>Internet-based</td><td>Neural Networks,Random Forests,RNNs                                                                                            </td><td>R      </td></tr>\n",
              "\t<tr><td>2</td><td>Amazon Machine Learning,Amazon Web services,Cloudera,Hadoop/Hive/Pig,Impala,Java,Mathematica,MATLAB/Octave,Microsoft Excel Data Mining,Microsoft SQL Server Data Mining,NoSQL,Python,R,SAS Base,SAS JMP,SQL,Tableau</td><td>Python</td><td>Mix of fields </td><td>Bayesian Techniques,Decision Trees,Random Forests,Regression/Logistic Regression                                               </td><td>both   </td></tr>\n",
              "\t<tr><td>3</td><td>C/C++,Jupyter notebooks,MATLAB/Octave,Python,R,TensorFlow                                                                                                                                                          </td><td>Python</td><td>Technology    </td><td>Bayesian Techniques,CNNs,Ensemble Methods,Neural Networks,Regression/Logistic Regression,SVMs                                  </td><td>both   </td></tr>\n",
              "\t<tr><td>4</td><td>Jupyter notebooks,Python,SQL,TensorFlow                                                                                                                                                                            </td><td>Python</td><td>Academic      </td><td>Bayesian Techniques,CNNs,Decision Trees,Gradient Boosted Machines,Neural Networks,Random Forests,Regression/Logistic Regression</td><td>Python </td></tr>\n",
              "\t<tr><td>5</td><td>C/C++,Cloudera,Hadoop/Hive/Pig,Java,NoSQL,R,Unix shell / awk                                                                                                                                                       </td><td>R     </td><td>Government    </td><td>NA                                                                                                                             </td><td>R      </td></tr>\n",
              "\t<tr><td>6</td><td>SQL                                                                                                                                                                                                                </td><td>Python</td><td>Non-profit    </td><td>NA                                                                                                                             </td><td>neither</td></tr>\n",
              "</tbody>\n",
              "</table>\n"
            ]
          },
          "metadata": {}
        }
      ]
    },
    {
      "metadata": {
        "dc": {
          "key": "40"
        },
        "deletable": false,
        "editable": false,
        "run_control": {
          "frozen": true
        },
        "tags": [
          "context"
        ],
        "id": "HrMxMThzZ3T1"
      },
      "cell_type": "markdown",
      "source": [
        "## 6. Plotting R vs Python users\n",
        "<p>Now we just need to take a closer look at how many respondents use R, Python, and both!</p>"
      ]
    },
    {
      "metadata": {
        "dc": {
          "key": "40"
        },
        "tags": [
          "sample_code"
        ],
        "trusted": true,
        "colab": {
          "base_uri": "https://localhost:8080/",
          "height": 437
        },
        "id": "rvL1H0EOZ3T2",
        "outputId": "1a1c292b-3ea2-4c15-a90e-5211f4184abe"
      },
      "cell_type": "code",
      "source": [
        "# Group by language preference, calculate number of responses, and remove \"neither\"\n",
        "debate_plot <- debate_tools  %>% \n",
        "   group_by(language_preference)  %>% \n",
        "   summarise(count = n()) %>% \n",
        "    filter(!language_preference == \"neither\")\n",
        "\n",
        "# Create a bar chart\n",
        "ggplot(debate_plot, aes(x = language_preference, y = count)) + geom_bar(stat = \"identity\")"
      ],
      "execution_count": 14,
      "outputs": [
        {
          "output_type": "display_data",
          "data": {
            "image/png": "[encoded data removed]",
            "text/plain": [
              "plot without title"
            ]
          },
          "metadata": {
            "image/png": {
              "width": 420,
              "height": 420
            }
          }
        }
      ]
    },
    {
      "metadata": {
        "dc": {
          "key": "47"
        },
        "deletable": false,
        "editable": false,
        "run_control": {
          "frozen": true
        },
        "tags": [
          "context"
        ],
        "id": "tZD4VeOCZ3T2"
      },
      "cell_type": "markdown",
      "source": [
        "## 7. Language recommendations\n",
        "<p>It looks like the largest group of professionals program in both Python and R. But what happens when they are asked which language they recommend to new learners? Do R lovers always recommend R?</p>"
      ]
    },
    {
      "metadata": {
        "dc": {
          "key": "47"
        },
        "tags": [
          "sample_code"
        ],
        "trusted": true,
        "colab": {
          "base_uri": "https://localhost:8080/"
        },
        "id": "1t7crEesZ3T2",
        "outputId": "e37e249d-4e37-4305-c400-b33cc0238ba7"
      },
      "cell_type": "code",
      "source": [
        "# Group by, summarise, arrange, mutate, and filter\n",
        "recommendations <- debate_tools  %>% \n",
        "    group_by(language_preference, LanguageRecommendationSelect)  %>% \n",
        "    summarise(count = n())  %>% \n",
        "    arrange(language_preference, desc(count)) %>% \n",
        "    mutate(row = row_number()) %>%\n",
        "    filter(row <= 4)\n",
        "    "
      ],
      "execution_count": 15,
      "outputs": [
        {
          "output_type": "stream",
          "name": "stderr",
          "text": [
            "\u001b[1m\u001b[22m`summarise()` has grouped output by 'language_preference'. You can override\n",
            "using the `.groups` argument.\n"
          ]
        }
      ]
    },
    {
      "metadata": {
        "dc": {
          "key": "54"
        },
        "deletable": false,
        "editable": false,
        "run_control": {
          "frozen": true
        },
        "tags": [
          "context"
        ],
        "id": "puqqUbBmZ3T3"
      },
      "cell_type": "markdown",
      "source": [
        "## 8. The most recommended language by the language used\n",
        "<p>Just one thing left. Let's graphically determine which languages are most recommended based on the language that a person uses.</p>"
      ]
    },
    {
      "metadata": {
        "dc": {
          "key": "54"
        },
        "tags": [
          "sample_code"
        ],
        "trusted": true,
        "colab": {
          "base_uri": "https://localhost:8080/",
          "height": 715
        },
        "id": "7YHLSRelZ3T3",
        "outputId": "832ef201-296f-4f57-e975-60fc002b63fb"
      },
      "cell_type": "code",
      "source": [
        "# Create a faceted bar plot\n",
        "ggplot(recommendations, aes(x = language_preference, y = count)) +\n",
        "    geom_bar(stat = \"identity\")\n",
        "    facet_wrap(~language_preference)\n"
      ],
      "execution_count": 16,
      "outputs": [
        {
          "output_type": "display_data",
          "data": {
            "text/plain": [
              "<ggproto object: Class FacetWrap, Facet, gg>\n",
              "    compute_layout: function\n",
              "    draw_back: function\n",
              "    draw_front: function\n",
              "    draw_labels: function\n",
              "    draw_panels: function\n",
              "    finish_data: function\n",
              "    init_scales: function\n",
              "    map_data: function\n",
              "    params: list\n",
              "    setup_data: function\n",
              "    setup_params: function\n",
              "    shrink: TRUE\n",
              "    train_scales: function\n",
              "    vars: function\n",
              "    super:  <ggproto object: Class FacetWrap, Facet, gg>"
            ]
          },
          "metadata": {}
        },
        {
          "output_type": "display_data",
          "data": {
            "image/png": "[encoded data removed]",
            "text/plain": [
              "plot without title"
            ]
          },
          "metadata": {
            "image/png": {
              "width": 420,
              "height": 420
            }
          }
        }
      ]
    },
    {
      "metadata": {
        "dc": {
          "key": "61"
        },
        "deletable": false,
        "editable": false,
        "run_control": {
          "frozen": true
        },
        "tags": [
          "context"
        ],
        "id": "n1jPbDP6Z3T3"
      },
      "cell_type": "markdown",
      "source": [
        "## 9. The moral of the story\n",
        "<p>We've found that Python is the most popular language used among Kaggle data scientists, but R users aren't far behind. And while Python users may highly recommend that new learners learn Python, would R users find the following statement <code>TRUE</code> or <code>FALSE</code>? </p>\n"
      ]
    },
    {
      "metadata": {
        "dc": {
          "key": "61"
        },
        "tags": [
          "sample_code"
        ],
        "collapsed": true,
        "trusted": true,
        "id": "enf9d6ugZ3T4"
      },
      "cell_type": "code",
      "source": [
        "# Would R users find this statement TRUE or FALSE?\n",
        "R_is_number_one = TRUE"
      ],
      "execution_count": 18,
      "outputs": []
    }
  ],
  "metadata": {
    "kernelspec": {
      "name": "ir",
      "display_name": "R",
      "language": "R"
    },
    "language_info": {
      "name": "R",
      "codemirror_mode": "r",
      "pygments_lexer": "r",
      "mimetype": "text/x-r-source",
      "file_extension": ".r",
      "version": "3.5.3"
    },
    "colab": {
      "name": "Exploring Data Science languages.ipynb",
      "provenance": [],
      "include_colab_link": true
    }
  },
  "nbformat": 4,
  "nbformat_minor": 0
}